{
 "cells": [
  {
   "cell_type": "code",
   "execution_count": 6,
   "metadata": {},
   "outputs": [
    {
     "name": "stdout",
     "output_type": "stream",
     "text": [
      "          xi   yi  zi  value          ton  destination   au\n",
      "ijk                                                        \n",
      "1         37  286  67   -117    83.330000            0  0.0\n",
      "2         38  286  67    -48    31.250000            0  0.0\n",
      "3         33  287  67     -7    10.420000            0  0.0\n",
      "4         34  287  67    -96    72.920000            0  0.0\n",
      "5         35  287  67   -186   135.420000            0  0.0\n",
      "6         36  287  67   -275   208.330000            0  0.0\n",
      "7         37  287  67   -357   270.830000            0  0.0\n",
      "8         38  287  67   -213   166.670000            0  0.0\n",
      "9         33  288  67   -213   166.670000            0  0.0\n",
      "10        34  288  67   -344   260.420000            0  0.0\n",
      "11        35  288  67   -440   333.330000            0  0.0\n",
      "12        36  288  67   -529   395.830000            0  0.0\n",
      "13        37  288  67   -584   447.920000            0  0.0\n",
      "14        38  288  67   -385   291.670000            0  0.0\n",
      "15        39  288  67   -158   125.000000            0  0.0\n",
      "16        32  289  67    -14    10.420000            0  0.0\n",
      "17        33  289  67   -406   302.080000            0  0.0\n",
      "18        34  289  67   -619   468.750000            0  0.0\n",
      "19        35  289  67   -688   520.830000            0  0.0\n",
      "20        36  289  67   -777   593.750000            0  0.0\n",
      "21        37  289  67   -784   593.750000            0  0.0\n",
      "22        38  289  67   -557   427.080000            0  0.0\n",
      "23        39  289  67   -330   250.000000            0  0.0\n",
      "24        40  289  67   -103    83.330000            0  0.0\n",
      "25        32  290  67   -144   114.580000            0  0.0\n",
      "26        33  290  67   -598   447.920000            0  0.0\n",
      "27        34  290  67   -921   697.920000            0  0.0\n",
      "28        35  290  67   -935   708.330000            0  0.0\n",
      "29        36  290  67  -1031   781.250000            0  0.0\n",
      "30        37  290  67   -956   718.750000            0  0.0\n",
      "...      ...  ...  ..    ...          ...          ...  ...\n",
      "2140312  110  295   0  -1375  1041.666667            0  0.0\n",
      "2140313  111  295   0  -1375  1041.666667            0  0.0\n",
      "2140314  112  295   0  -1375  1041.666667            0  0.0\n",
      "2140315  113  295   0  -1375  1041.666667            0  0.0\n",
      "2140316  114  295   0  -1375  1041.666667            0  0.0\n",
      "2140317  115  295   0  -1375  1041.666667            0  0.0\n",
      "2140318  116  295   0  -1375  1041.666667            0  0.0\n",
      "2140319  117  295   0  -1375  1041.666667            0  0.0\n",
      "2140320  118  295   0  -1375  1041.666667            0  0.0\n",
      "2140321  119  295   0  -1375  1041.666667            0  0.0\n",
      "2140322  120  295   0  -1375  1041.666667            0  0.0\n",
      "2140323  121  295   0  -1375  1041.666667            0  0.0\n",
      "2140324  122  295   0  -1375  1041.666667            0  0.0\n",
      "2140325  123  295   0  -1375  1041.666667            0  0.0\n",
      "2140326  124  295   0  -1375  1041.666667            0  0.0\n",
      "2140327  125  295   0  -1375  1041.666667            0  0.0\n",
      "2140328  126  295   0  -1375  1041.666667            0  0.0\n",
      "2140329  127  295   0  -1375  1041.666667            0  0.0\n",
      "2140330  128  295   0  -1375  1041.666667            0  0.0\n",
      "2140331  129  295   0  -1375  1041.666667            0  0.0\n",
      "2140332  130  295   0  -1375  1041.666667            0  0.0\n",
      "2140333  131  295   0  -1375  1041.666667            0  0.0\n",
      "2140334  132  295   0  -1375  1041.666667            0  0.0\n",
      "2140335  133  295   0  -1375  1041.666667            0  0.0\n",
      "2140336  134  295   0  -1375  1041.666667            0  0.0\n",
      "2140337  135  295   0  -1375  1041.666667            0  0.0\n",
      "2140338  136  295   0  -1375  1041.666667            0  0.0\n",
      "2140339  137  295   0  -1375  1041.666667            0  0.0\n",
      "2140340  138  295   0  -1375  1041.666667            0  0.0\n",
      "2140341  139  295   0  -1375  1041.666667            0  0.0\n",
      "\n",
      "[2140341 rows x 7 columns]\n"
     ]
    }
   ],
   "source": [
    "import pandas as pd\n",
    "colNames = [\"ijk\", \"xi\", \"yi\", \"zi\", \"value\", \"ton\", \"destination\", \"au\"]\n",
    "df = pd.read_csv('mclaughlin.blocks', names=colNames, index_col=0, sep=\" \", header=0)\n",
    "print(df)\n"
   ]
  },
  {
   "cell_type": "code",
   "execution_count": 9,
   "metadata": {},
   "outputs": [],
   "source": [
    "sizeDF = df['xi'].value_counts()\n"
   ]
  },
  {
   "cell_type": "code",
   "execution_count": 16,
   "metadata": {},
   "outputs": [
    {
     "data": {
      "text/plain": [
       "Int64Index([ 71,  76,  73,  74,  77,  70,  75,  72,  68,  79,\n",
       "            ...\n",
       "              1,   0, 132, 133, 134, 135, 136, 137, 138, 139],\n",
       "           dtype='int64', length=140)"
      ]
     },
     "execution_count": 16,
     "metadata": {},
     "output_type": "execute_result"
    }
   ],
   "source": [
    "sizeDF.index"
   ]
  },
  {
   "cell_type": "code",
   "execution_count": 21,
   "metadata": {},
   "outputs": [
    {
     "data": {
      "text/plain": [
       "14371"
      ]
     },
     "execution_count": 21,
     "metadata": {},
     "output_type": "execute_result"
    }
   ],
   "source": [
    "sizeDF[0]\n"
   ]
  },
  {
   "cell_type": "code",
   "execution_count": 22,
   "metadata": {},
   "outputs": [
    {
     "name": "stdout",
     "output_type": "stream",
     "text": [
      "71     16027\n",
      "76     16025\n",
      "73     16024\n",
      "74     16022\n",
      "77     16020\n",
      "70     16018\n",
      "75     16018\n",
      "72     16012\n",
      "68     16009\n",
      "79     16007\n",
      "69     16000\n",
      "56     15998\n",
      "60     15997\n",
      "58     15996\n",
      "62     15995\n",
      "67     15994\n",
      "59     15993\n",
      "81     15993\n",
      "78     15992\n",
      "80     15988\n",
      "57     15987\n",
      "64     15981\n",
      "66     15981\n",
      "65     15979\n",
      "61     15978\n",
      "63     15978\n",
      "54     15963\n",
      "55     15962\n",
      "53     15954\n",
      "52     15953\n",
      "       ...  \n",
      "16     14670\n",
      "17     14669\n",
      "14     14646\n",
      "15     14631\n",
      "12     14606\n",
      "13     14604\n",
      "11     14597\n",
      "10     14583\n",
      "128    14561\n",
      "8      14543\n",
      "9      14531\n",
      "129    14530\n",
      "6      14461\n",
      "7      14459\n",
      "4      14429\n",
      "130    14429\n",
      "3      14422\n",
      "2      14414\n",
      "131    14407\n",
      "5      14401\n",
      "1      14377\n",
      "0      14371\n",
      "132    14369\n",
      "133    14343\n",
      "134    14212\n",
      "135    14160\n",
      "136    14018\n",
      "137    13975\n",
      "138    13821\n",
      "139    13786\n",
      "Name: xi, Length: 140, dtype: int64\n"
     ]
    }
   ],
   "source": [
    "print(sizeDF)\n"
   ]
  },
  {
   "cell_type": "code",
   "execution_count": 24,
   "metadata": {},
   "outputs": [
    {
     "data": {
      "text/plain": [
       "<matplotlib.axes._subplots.AxesSubplot at 0x7fc5ac6bba90>"
      ]
     },
     "execution_count": 24,
     "metadata": {},
     "output_type": "execute_result"
    },
    {
     "data": {
      "image/png": "[encoded data removed]",
      "text/plain": [
       "<Figure size 432x288 with 1 Axes>"
      ]
     },
     "metadata": {
      "needs_background": "light"
     },
     "output_type": "display_data"
    }
   ],
   "source": [
    "dfa=sizeDF\n",
    "\n",
    "dfa.plot.bar(rot=0)"
   ]
  },
  {
   "cell_type": "code",
   "execution_count": 31,
   "metadata": {},
   "outputs": [
    {
     "data": {
      "text/plain": [
       "<bound method Series.idxmax of 71     16027\n",
       "76     16025\n",
       "73     16024\n",
       "74     16022\n",
       "77     16020\n",
       "70     16018\n",
       "75     16018\n",
       "72     16012\n",
       "68     16009\n",
       "79     16007\n",
       "69     16000\n",
       "56     15998\n",
       "60     15997\n",
       "58     15996\n",
       "62     15995\n",
       "67     15994\n",
       "59     15993\n",
       "81     15993\n",
       "78     15992\n",
       "80     15988\n",
       "57     15987\n",
       "64     15981\n",
       "66     15981\n",
       "65     15979\n",
       "61     15978\n",
       "63     15978\n",
       "54     15963\n",
       "55     15962\n",
       "53     15954\n",
       "52     15953\n",
       "       ...  \n",
       "16     14670\n",
       "17     14669\n",
       "14     14646\n",
       "15     14631\n",
       "12     14606\n",
       "13     14604\n",
       "11     14597\n",
       "10     14583\n",
       "128    14561\n",
       "8      14543\n",
       "9      14531\n",
       "129    14530\n",
       "6      14461\n",
       "7      14459\n",
       "4      14429\n",
       "130    14429\n",
       "3      14422\n",
       "2      14414\n",
       "131    14407\n",
       "5      14401\n",
       "1      14377\n",
       "0      14371\n",
       "132    14369\n",
       "133    14343\n",
       "134    14212\n",
       "135    14160\n",
       "136    14018\n",
       "137    13975\n",
       "138    13821\n",
       "139    13786\n",
       "Name: xi, Length: 140, dtype: int64>"
      ]
     },
     "execution_count": 31,
     "metadata": {},
     "output_type": "execute_result"
    }
   ],
   "source": [
    "dfa.idxmax"
   ]
  },
  {
   "cell_type": "code",
   "execution_count": null,
   "metadata": {},
   "outputs": [],
   "source": []
  },
  {
   "cell_type": "code",
   "execution_count": null,
   "metadata": {},
   "outputs": [],
   "source": []
  },
  {
   "cell_type": "code",
   "execution_count": null,
   "metadata": {},
   "outputs": [],
   "source": []
  },
  {
   "cell_type": "code",
   "execution_count": null,
   "metadata": {},
   "outputs": [],
   "source": []
  },
  {
   "cell_type": "code",
   "execution_count": null,
   "metadata": {},
   "outputs": [],
   "source": []
  },
  {
   "cell_type": "code",
   "execution_count": null,
   "metadata": {},
   "outputs": [],
   "source": []
  },
  {
   "cell_type": "code",
   "execution_count": null,
   "metadata": {},
   "outputs": [],
   "source": []
  },
  {
   "cell_type": "code",
   "execution_count": null,
   "metadata": {},
   "outputs": [],
   "source": []
  }
 ],
 "metadata": {
  "kernelspec": {
   "display_name": "Python 3",
   "language": "python",
   "name": "python3"
  },
  "language_info": {
   "codemirror_mode": {
    "name": "ipython",
    "version": 3
   },
   "file_extension": ".py",
   "mimetype": "text/x-python",
   "name": "python",
   "nbconvert_exporter": "python",
   "pygments_lexer": "ipython3",
   "version": "3.7.3"
  }
 },
 "nbformat": 4,
 "nbformat_minor": 2
}
